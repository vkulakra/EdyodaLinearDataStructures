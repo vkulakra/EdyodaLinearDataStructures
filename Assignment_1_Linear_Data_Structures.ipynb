{
  "cells": [
    {
      "cell_type": "markdown",
      "source": [
        "# **Problem for Assignment-2: Linear Data Structures**\n",
        "\n",
        "\n",
        "\n",
        "1.   Delete the elements in an linked list whose sum is equal to zero\n",
        "2.   Reverse a linked list in groups of given size\n",
        "3.   Merge a linked list into another linked list at alternate positions.\n",
        "4.   In an array, Count Pairs with given sum\n",
        "5.   Find duplicates in an array\n",
        "6.   Find the Kth largest and Kth smallest number in an array\n",
        "7.   Move all the negative elements to one side of the array\n",
        "8.   Reverse a string using a stack data structure\n",
        "9.   Evaluate a postfix expression using stack\n",
        "10.  Implement a queue using the stack data structure"
      ],
      "metadata": {
        "id": "zaFajdTmLQbk"
      }
    },
    {
      "cell_type": "code",
      "source": [
        "# 1. Delete the elements in an linked list whose sum is equal to zero\n",
        "\n",
        "class ListNode:\n",
        "    def __init__(self, val=0, next=None):\n",
        "        self.val = val\n",
        "        self.next = next\n",
        "\n",
        "def delete_zero_sum(head):\n",
        "    prefix_sum = 0\n",
        "    seen = {}\n",
        "    dummy = ListNode(0)\n",
        "    dummy.next = head\n",
        "    current = dummy\n",
        "\n",
        "    while current:\n",
        "        prefix_sum += current.val\n",
        "        seen[prefix_sum] = current\n",
        "        current = current.next\n",
        "\n",
        "    current = dummy\n",
        "    prefix_sum = 0\n",
        "    while current:\n",
        "        prefix_sum += current.val\n",
        "        current.next = seen[prefix_sum].next\n",
        "        current = current.next\n",
        "\n",
        "    return dummy.next\n"
      ],
      "metadata": {
        "id": "yrr25h5fMEMP"
      },
      "execution_count": null,
      "outputs": []
    },
    {
      "cell_type": "code",
      "source": [
        "# 2. Reverse a linked list in groups of given size\n",
        "\n",
        "class ListNode:\n",
        "    def __init__(self, val=0, next=None):\n",
        "        self.val = val\n",
        "        self.next = next\n",
        "\n",
        "def reverse_in_groups(head, k):\n",
        "    prev = None\n",
        "    current = head\n",
        "    count = 0\n",
        "\n",
        "    while current and count < k:\n",
        "        next_node = current.next\n",
        "        current.next = prev\n",
        "        prev = current\n",
        "        current = next_node\n",
        "        count += 1\n",
        "\n",
        "    if current:\n",
        "        head.next = reverse_in_groups(current, k)\n",
        "\n",
        "    return prev\n"
      ],
      "metadata": {
        "id": "iiuyMpz7Ma2m"
      },
      "execution_count": null,
      "outputs": []
    },
    {
      "cell_type": "code",
      "source": [
        "# 3. Merge a linked list into another linked list at alternate positions\n",
        "\n",
        "class ListNode:\n",
        "    def __init__(self, val=0, next=None):\n",
        "        self.val = val\n",
        "        self.next = next\n",
        "\n",
        "def merge_alternate(head1, head2):\n",
        "    if not head1:\n",
        "        return head2\n",
        "    if not head2:\n",
        "        return head1\n",
        "\n",
        "    current1 = head1\n",
        "    current2 = head2\n",
        "\n",
        "    while current1 and current2:\n",
        "        next1 = current1.next\n",
        "        next2 = current2.next\n",
        "\n",
        "        current1.next = current2\n",
        "        current2.next = next1\n",
        "\n",
        "        current1 = next1\n",
        "        current2 = next2\n",
        "\n",
        "    return head1"
      ],
      "metadata": {
        "id": "70HkuNuEMmcn"
      },
      "execution_count": null,
      "outputs": []
    },
    {
      "cell_type": "code",
      "source": [
        "# 4. In an array, count pairs with a given sum\n",
        "\n",
        "def count_pairs_with_sum(arr, target_sum):\n",
        "    count = 0\n",
        "    seen = set()\n",
        "\n",
        "    for num in arr:\n",
        "        complement = target_sum - num\n",
        "        if complement in seen:\n",
        "            count += 1\n",
        "        seen.add(num)\n",
        "\n",
        "    return count"
      ],
      "metadata": {
        "id": "D80K-2HKMvZj"
      },
      "execution_count": null,
      "outputs": []
    },
    {
      "cell_type": "code",
      "source": [
        "# 5. Find duplicates in an array\n",
        "\n",
        "def find_duplicates(arr):\n",
        "    seen = set()\n",
        "    duplicates = []\n",
        "\n",
        "    for num in arr:\n",
        "        if num in seen:\n",
        "            duplicates.append(num)\n",
        "        seen.add(num)\n",
        "\n",
        "    return duplicates"
      ],
      "metadata": {
        "id": "4enuIcVeM3EH"
      },
      "execution_count": null,
      "outputs": []
    },
    {
      "cell_type": "code",
      "source": [
        "# 6. Find the Kth largest and Kth smallest number in an array\n",
        "\n",
        "def find_kth_largest(arr, k):\n",
        "    arr.sort()\n",
        "    return arr[-k]\n",
        "\n",
        "def find_kth_smallest(arr, k):\n",
        "    arr.sort()\n",
        "    return arr[k - 1]"
      ],
      "metadata": {
        "id": "n2zkRQQLM-V3"
      },
      "execution_count": null,
      "outputs": []
    },
    {
      "cell_type": "code",
      "source": [
        "# 7. Move all negative elements to one side of the array\n",
        "\n",
        "def move_negatives(arr):\n",
        "    left = 0\n",
        "    right = len(arr) - 1\n",
        "\n",
        "    while left <= right:\n",
        "        if arr[left] < 0 and arr[right] < 0:\n",
        "            left += 1\n",
        "        elif arr[left] >= 0 and arr[right] < 0:\n",
        "            arr[left], arr[right] = arr[right], arr[left]\n",
        "            left += 1\n",
        "            right -= 1\n",
        "        elif arr[left] >= 0 and arr[right] >= 0:\n",
        "            right -= 1\n",
        "        else:\n",
        "            left += 1\n",
        "            right -= 1"
      ],
      "metadata": {
        "id": "DPfUnKCCNFE9"
      },
      "execution_count": null,
      "outputs": []
    },
    {
      "cell_type": "code",
      "source": [
        "# 8. Reverse a string using a stack data structure\n",
        "\n",
        "def reverse_string(s):\n",
        "    stack = []\n",
        "    for char in s:\n",
        "        stack.append(char)\n",
        "\n",
        "    reversed_str = \"\"\n",
        "    while stack:\n",
        "        reversed_str += stack.pop()\n",
        "\n",
        "    return reversed_str"
      ],
      "metadata": {
        "id": "_-ix80KqNLpX"
      },
      "execution_count": null,
      "outputs": []
    },
    {
      "cell_type": "code",
      "source": [
        "# 9. Evaluate a postfix expression using a stack\n",
        "\n",
        "def evaluate_postfix(expression):\n",
        "    stack = []\n",
        "    operators = set(['+', '-', '*', '/'])\n",
        "\n",
        "    for token in expression:\n",
        "        if token not in operators:\n",
        "            stack.append(int(token))\n",
        "        else:\n",
        "            operand2 = stack.pop()\n",
        "            operand1 = stack.pop()\n",
        "            if token == '+':\n",
        "                stack.append(operand1 + operand2)\n",
        "            elif token == '-':\n",
        "                stack.append(operand1 - operand2)\n",
        "            elif token == '*':\n",
        "                stack.append(operand1 * operand2)\n",
        "            elif token == '/':\n",
        "                stack.append(operand1 // operand2)\n",
        "\n",
        "    return stack[0]"
      ],
      "metadata": {
        "id": "rF_BkQihNSi3"
      },
      "execution_count": null,
      "outputs": []
    },
    {
      "cell_type": "code",
      "source": [
        "# 10. Implement a queue using the stack data structure\n",
        "\n",
        "class MyQueue:\n",
        "\n",
        "    def __init__(self):\n",
        "        self.stack1 = []\n",
        "        self.stack2 = []\n",
        "\n",
        "    def push(self, x: int) -> None:\n",
        "        self.stack1.append(x)\n",
        "\n",
        "    def pop(self) -> int:\n",
        "        if not self.stack2:\n",
        "            while self.stack1:\n",
        "                self.stack2.append(self.stack1.pop())\n",
        "        return self.stack2.pop()\n",
        "\n",
        "    def peek(self) -> int:\n",
        "        if not self.stack2:\n",
        "            while self.stack1:\n",
        "                self.stack2.append(self.stack1.pop())\n",
        "        return self.stack2[-1]\n",
        "\n",
        "    def empty(self) -> bool:\n",
        "        return not self.stack1 and not self.stack2"
      ],
      "metadata": {
        "id": "bERNojO8NY8r"
      },
      "execution_count": null,
      "outputs": []
    }
  ],
  "metadata": {
    "colab": {
      "provenance": []
    },
    "kernelspec": {
      "display_name": "Python 3",
      "name": "python3"
    }
  },
  "nbformat": 4,
  "nbformat_minor": 0
}